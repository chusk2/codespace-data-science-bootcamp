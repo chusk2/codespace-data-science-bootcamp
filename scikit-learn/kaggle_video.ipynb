{
 "cells": [
  {
   "cell_type": "markdown",
   "id": "1a90be66-ed7d-405b-8a00-fafb65fda969",
   "metadata": {},
   "source": [
    "## Importación de las librerías necesarias"
   ]
  },
  {
   "cell_type": "code",
   "execution_count": 1,
   "id": "70651e7c-4d07-4786-bd61-5cae7ef8a2eb",
   "metadata": {
    "tags": []
   },
   "outputs": [],
   "source": [
    "import numpy as np\n",
    "import pandas as pd\n",
    "import matplotlib.pyplot as plt\n",
    "import seaborn as sns"
   ]
  },
  {
   "cell_type": "markdown",
   "id": "bcae0d32-f763-4612-b49b-f11c75857ffe",
   "metadata": {},
   "source": [
    "### Carga de los archivos csv"
   ]
  },
  {
   "cell_type": "code",
   "execution_count": 2,
   "id": "b48e868e-d304-4cef-801d-a48db41c0bab",
   "metadata": {
    "tags": []
   },
   "outputs": [],
   "source": [
    "train_csv = './data/train.csv'\n",
    "test_csv = './data/test.csv'"
   ]
  },
  {
   "cell_type": "code",
   "execution_count": 3,
   "id": "7b25d73f-a9ef-4854-9b9d-44749e6a8e9d",
   "metadata": {
    "tags": []
   },
   "outputs": [],
   "source": [
    "train_df = pd.read_csv(train_csv)\n",
    "test_df = pd.read_csv(test_csv)"
   ]
  },
  {
   "cell_type": "markdown",
   "id": "3fa03638-7ed2-4691-ad12-ff71c2d1c835",
   "metadata": {},
   "source": [
    "Unimos los datasets en uno solo. Anadimos las etiquitas train y test para diferenciar unos datos de otros"
   ]
  },
  {
   "cell_type": "code",
   "execution_count": 4,
   "id": "b53d6579-a17d-434b-ac7c-2303157ce72b",
   "metadata": {
    "tags": []
   },
   "outputs": [],
   "source": [
    "df = pd.concat([train_df, test_df], keys= ['train', 'test'], axis=0)"
   ]
  },
  {
   "cell_type": "code",
   "execution_count": 5,
   "id": "7c2a9399-9663-41db-a062-78244caa7b91",
   "metadata": {
    "tags": []
   },
   "outputs": [
    {
     "data": {
      "text/plain": [
       "Index(['Id', 'MSSubClass', 'MSZoning', 'LotFrontage', 'LotArea', 'Street',\n",
       "       'Alley', 'LotShape', 'LandContour', 'Utilities', 'LotConfig',\n",
       "       'LandSlope', 'Neighborhood', 'Condition1', 'Condition2', 'BldgType',\n",
       "       'HouseStyle', 'OverallQual', 'OverallCond', 'YearBuilt', 'YearRemodAdd',\n",
       "       'RoofStyle', 'RoofMatl', 'Exterior1st', 'Exterior2nd', 'MasVnrType',\n",
       "       'MasVnrArea', 'ExterQual', 'ExterCond', 'Foundation', 'BsmtQual',\n",
       "       'BsmtCond', 'BsmtExposure', 'BsmtFinType1', 'BsmtFinSF1',\n",
       "       'BsmtFinType2', 'BsmtFinSF2', 'BsmtUnfSF', 'TotalBsmtSF', 'Heating',\n",
       "       'HeatingQC', 'CentralAir', 'Electrical', '1stFlrSF', '2ndFlrSF',\n",
       "       'LowQualFinSF', 'GrLivArea', 'BsmtFullBath', 'BsmtHalfBath', 'FullBath',\n",
       "       'HalfBath', 'BedroomAbvGr', 'KitchenAbvGr', 'KitchenQual',\n",
       "       'TotRmsAbvGrd', 'Functional', 'Fireplaces', 'FireplaceQu', 'GarageType',\n",
       "       'GarageYrBlt', 'GarageFinish', 'GarageCars', 'GarageArea', 'GarageQual',\n",
       "       'GarageCond', 'PavedDrive', 'WoodDeckSF', 'OpenPorchSF',\n",
       "       'EnclosedPorch', '3SsnPorch', 'ScreenPorch', 'PoolArea', 'PoolQC',\n",
       "       'Fence', 'MiscFeature', 'MiscVal', 'MoSold', 'YrSold', 'SaleType',\n",
       "       'SaleCondition', 'SalePrice'],\n",
       "      dtype='object')"
      ]
     },
     "execution_count": 5,
     "metadata": {},
     "output_type": "execute_result"
    }
   ],
   "source": [
    "df.columns"
   ]
  },
  {
   "cell_type": "markdown",
   "id": "4c0ced1a-1e91-4661-8acd-725e0b36be9d",
   "metadata": {},
   "source": [
    "Para este ejercicio vamos a simplificar el problema y vamos a reducir el número de variables a utilizar a un set de 10 variables más manejables.\n",
    "\n",
    "| **Nombre**        | **Descripción**                                                                                                   | **Valoración**                                                                                                                                                                     |\n",
    "|---------------|---------------------------------------------------------------------------------------------------------------|--------------------------------------------------------------------------------------------------------------------------------------------------------------------------------|\n",
    "| **OverallQual**   | Calificación de la calidad general de los materiales y acabados (1 a 10).                                     | Es crucial para la predicción del precio, ya que la calidad de construcción y acabados afecta directamente la percepción de valor y atractivo de la propiedad.                   |\n",
    "| **GrLivArea**     | Área habitable sobre el nivel del suelo en pies cuadrados.                                                    | Un mayor espacio habitable es más deseable y puede alojar a más personas, incrementando la utilidad y valor de la casa.                                                        |\n",
    "| **Neighborhood**  | Vecindario dentro de los límites de la ciudad de Ames.                                                        | La ubicación puede influir en la seguridad, acceso a servicios, escuelas y otros factores que afectan la calidad de vida, siendo un factor clave en el valor de la propiedad.    |\n",
    "| **YearBuilt**     | Año de construcción de la casa.                                                                               | Las casas más nuevas suelen tener instalaciones modernas y menos problemas de mantenimiento, lo cual puede elevar el precio de la propiedad.                                   |\n",
    "| **GarageCars**    | Capacidad del garaje en términos de número de coches.                                                         | Es un indicador de conveniencia y almacenamiento adicional, factores valorados por los compradores, especialmente en áreas suburbanas.                                          |\n",
    "| **TotalBsmtSF**   | Área total del sótano en pies cuadrados.                                                                      | Un sótano más grande puede incrementar el espacio utilizable, lo que es atractivo para los compradores y puede aumentar el valor de la propiedad.                               |\n",
    "| **KitchenQual**   | Califica la calidad de la cocina (Ex a Po).                                                                   | La calidad de la cocina puede influir notablemente en la decisión de compra y la disposición a pagar más, ya que es una de las áreas más importantes de una casa.              |\n",
    "| **FullBath**      | Número de baños completos sobre el nivel del suelo.                                                           | Más baños completos incrementan la comodidad y funcionalidad de la vivienda, especialmente en familias numerosas, siendo un aspecto muy valorado.                               |\n",
    "| **MSZoning**      | Clasificación general de la zona de la propiedad (Agrícola, Comercial, Residencial, etc.).                    | Afecta las regulaciones y el uso permitido de la propiedad, influyendo en su valor y en las posibilidades de desarrollo o remodelación.                                         |\n",
    "| **LotArea**       | Tamaño del lote en pies cuadrados.                                                                            | Un terreno más grande puede ofrecer más privacidad, espacio para actividades al aire libre o futuras ampliaciones de la casa, aumentando su atractivo y valor.                  |\n",
    "| **LotArea**       | Tamaño del lote en pies cuadrados.                                                                            | Un terreno más grande puede ofrecer más privacidad, espacio para actividades al aire libre o futuras ampliaciones de la casa, aumentando su atractivo y valor.                  |"
   ]
  },
  {
   "cell_type": "code",
   "execution_count": 6,
   "id": "de6c155d-1190-489e-b7ce-80770dbb0141",
   "metadata": {
    "tags": []
   },
   "outputs": [],
   "source": [
    "selected_features = [\"OverallQual\",\n",
    "    \"GrLivArea\",\n",
    "    \"Neighborhood\",\n",
    "    \"YearBuilt\",\n",
    "    \"GarageCars\",\n",
    "    \"TotalBsmtSF\",\n",
    "    \"KitchenQual\",\n",
    "    \"FullBath\",\n",
    "    \"MSZoning\",\n",
    "    \"LotArea\",\n",
    "    \"SalePrice\"]"
   ]
  },
  {
   "cell_type": "code",
   "execution_count": 7,
   "id": "9bbf721c-7776-4b28-8a84-6b545c767315",
   "metadata": {
    "tags": []
   },
   "outputs": [],
   "source": [
    "df_backup = df.copy() "
   ]
  },
  {
   "cell_type": "code",
   "execution_count": 8,
   "id": "643c6837-21d2-461d-96fc-cd42976a20f0",
   "metadata": {
    "tags": []
   },
   "outputs": [],
   "source": [
    "df = df[selected_features]"
   ]
  },
  {
   "cell_type": "code",
   "execution_count": 9,
   "id": "7e381c8a-f147-4f47-a753-5d9b7b2d27d4",
   "metadata": {
    "tags": []
   },
   "outputs": [
    {
     "name": "stdout",
     "output_type": "stream",
     "text": [
      "<class 'pandas.core.frame.DataFrame'>\n",
      "MultiIndex: 2919 entries, ('train', np.int64(0)) to ('test', np.int64(1458))\n",
      "Data columns (total 11 columns):\n",
      " #   Column        Non-Null Count  Dtype  \n",
      "---  ------        --------------  -----  \n",
      " 0   OverallQual   2919 non-null   int64  \n",
      " 1   GrLivArea     2919 non-null   int64  \n",
      " 2   Neighborhood  2919 non-null   object \n",
      " 3   YearBuilt     2919 non-null   int64  \n",
      " 4   GarageCars    2918 non-null   float64\n",
      " 5   TotalBsmtSF   2918 non-null   float64\n",
      " 6   KitchenQual   2918 non-null   object \n",
      " 7   FullBath      2919 non-null   int64  \n",
      " 8   MSZoning      2915 non-null   object \n",
      " 9   LotArea       2919 non-null   int64  \n",
      " 10  SalePrice     1460 non-null   float64\n",
      "dtypes: float64(3), int64(5), object(3)\n",
      "memory usage: 303.3+ KB\n"
     ]
    }
   ],
   "source": [
    "df.info()"
   ]
  },
  {
   "cell_type": "code",
   "execution_count": 10,
   "id": "dc62feb3-a382-43b8-beb4-0f46d5f0d4ac",
   "metadata": {
    "tags": []
   },
   "outputs": [
    {
     "data": {
      "text/plain": [
       "OverallQual        0\n",
       "GrLivArea          0\n",
       "Neighborhood       0\n",
       "YearBuilt          0\n",
       "GarageCars         1\n",
       "TotalBsmtSF        1\n",
       "KitchenQual        1\n",
       "FullBath           0\n",
       "MSZoning           4\n",
       "LotArea            0\n",
       "SalePrice       1459\n",
       "dtype: int64"
      ]
     },
     "execution_count": 10,
     "metadata": {},
     "output_type": "execute_result"
    }
   ],
   "source": [
    "df.isna().sum()"
   ]
  },
  {
   "cell_type": "code",
   "execution_count": 11,
   "id": "ff7318bf-5ab1-414e-855e-cefe89945cca",
   "metadata": {
    "tags": []
   },
   "outputs": [
    {
     "data": {
      "text/html": [
       "<div>\n",
       "<style scoped>\n",
       "    .dataframe tbody tr th:only-of-type {\n",
       "        vertical-align: middle;\n",
       "    }\n",
       "\n",
       "    .dataframe tbody tr th {\n",
       "        vertical-align: top;\n",
       "    }\n",
       "\n",
       "    .dataframe thead th {\n",
       "        text-align: right;\n",
       "    }\n",
       "</style>\n",
       "<table border=\"1\" class=\"dataframe\">\n",
       "  <thead>\n",
       "    <tr style=\"text-align: right;\">\n",
       "      <th></th>\n",
       "      <th>OverallQual</th>\n",
       "      <th>GrLivArea</th>\n",
       "      <th>YearBuilt</th>\n",
       "      <th>GarageCars</th>\n",
       "      <th>TotalBsmtSF</th>\n",
       "      <th>FullBath</th>\n",
       "      <th>LotArea</th>\n",
       "      <th>SalePrice</th>\n",
       "    </tr>\n",
       "  </thead>\n",
       "  <tbody>\n",
       "    <tr>\n",
       "      <th>count</th>\n",
       "      <td>2919.000000</td>\n",
       "      <td>2919.000000</td>\n",
       "      <td>2919.000000</td>\n",
       "      <td>2918.000000</td>\n",
       "      <td>2918.000000</td>\n",
       "      <td>2919.000000</td>\n",
       "      <td>2919.000000</td>\n",
       "      <td>1460.000000</td>\n",
       "    </tr>\n",
       "    <tr>\n",
       "      <th>mean</th>\n",
       "      <td>6.089072</td>\n",
       "      <td>1500.759849</td>\n",
       "      <td>1971.312778</td>\n",
       "      <td>1.766621</td>\n",
       "      <td>1051.777587</td>\n",
       "      <td>1.568003</td>\n",
       "      <td>10168.114080</td>\n",
       "      <td>180921.195890</td>\n",
       "    </tr>\n",
       "    <tr>\n",
       "      <th>std</th>\n",
       "      <td>1.409947</td>\n",
       "      <td>506.051045</td>\n",
       "      <td>30.291442</td>\n",
       "      <td>0.761624</td>\n",
       "      <td>440.766258</td>\n",
       "      <td>0.552969</td>\n",
       "      <td>7886.996359</td>\n",
       "      <td>79442.502883</td>\n",
       "    </tr>\n",
       "    <tr>\n",
       "      <th>min</th>\n",
       "      <td>1.000000</td>\n",
       "      <td>334.000000</td>\n",
       "      <td>1872.000000</td>\n",
       "      <td>0.000000</td>\n",
       "      <td>0.000000</td>\n",
       "      <td>0.000000</td>\n",
       "      <td>1300.000000</td>\n",
       "      <td>34900.000000</td>\n",
       "    </tr>\n",
       "    <tr>\n",
       "      <th>25%</th>\n",
       "      <td>5.000000</td>\n",
       "      <td>1126.000000</td>\n",
       "      <td>1953.500000</td>\n",
       "      <td>1.000000</td>\n",
       "      <td>793.000000</td>\n",
       "      <td>1.000000</td>\n",
       "      <td>7478.000000</td>\n",
       "      <td>129975.000000</td>\n",
       "    </tr>\n",
       "    <tr>\n",
       "      <th>50%</th>\n",
       "      <td>6.000000</td>\n",
       "      <td>1444.000000</td>\n",
       "      <td>1973.000000</td>\n",
       "      <td>2.000000</td>\n",
       "      <td>989.500000</td>\n",
       "      <td>2.000000</td>\n",
       "      <td>9453.000000</td>\n",
       "      <td>163000.000000</td>\n",
       "    </tr>\n",
       "    <tr>\n",
       "      <th>75%</th>\n",
       "      <td>7.000000</td>\n",
       "      <td>1743.500000</td>\n",
       "      <td>2001.000000</td>\n",
       "      <td>2.000000</td>\n",
       "      <td>1302.000000</td>\n",
       "      <td>2.000000</td>\n",
       "      <td>11570.000000</td>\n",
       "      <td>214000.000000</td>\n",
       "    </tr>\n",
       "    <tr>\n",
       "      <th>max</th>\n",
       "      <td>10.000000</td>\n",
       "      <td>5642.000000</td>\n",
       "      <td>2010.000000</td>\n",
       "      <td>5.000000</td>\n",
       "      <td>6110.000000</td>\n",
       "      <td>4.000000</td>\n",
       "      <td>215245.000000</td>\n",
       "      <td>755000.000000</td>\n",
       "    </tr>\n",
       "  </tbody>\n",
       "</table>\n",
       "</div>"
      ],
      "text/plain": [
       "       OverallQual    GrLivArea    YearBuilt   GarageCars  TotalBsmtSF  \\\n",
       "count  2919.000000  2919.000000  2919.000000  2918.000000  2918.000000   \n",
       "mean      6.089072  1500.759849  1971.312778     1.766621  1051.777587   \n",
       "std       1.409947   506.051045    30.291442     0.761624   440.766258   \n",
       "min       1.000000   334.000000  1872.000000     0.000000     0.000000   \n",
       "25%       5.000000  1126.000000  1953.500000     1.000000   793.000000   \n",
       "50%       6.000000  1444.000000  1973.000000     2.000000   989.500000   \n",
       "75%       7.000000  1743.500000  2001.000000     2.000000  1302.000000   \n",
       "max      10.000000  5642.000000  2010.000000     5.000000  6110.000000   \n",
       "\n",
       "          FullBath        LotArea      SalePrice  \n",
       "count  2919.000000    2919.000000    1460.000000  \n",
       "mean      1.568003   10168.114080  180921.195890  \n",
       "std       0.552969    7886.996359   79442.502883  \n",
       "min       0.000000    1300.000000   34900.000000  \n",
       "25%       1.000000    7478.000000  129975.000000  \n",
       "50%       2.000000    9453.000000  163000.000000  \n",
       "75%       2.000000   11570.000000  214000.000000  \n",
       "max       4.000000  215245.000000  755000.000000  "
      ]
     },
     "execution_count": 11,
     "metadata": {},
     "output_type": "execute_result"
    }
   ],
   "source": [
    "df.describe()"
   ]
  },
  {
   "cell_type": "code",
   "execution_count": 12,
   "id": "da2354e6-e752-4c40-a4fe-6f3a1c2c72d1",
   "metadata": {
    "tags": []
   },
   "outputs": [
    {
     "data": {
      "text/html": [
       "<div>\n",
       "<style scoped>\n",
       "    .dataframe tbody tr th:only-of-type {\n",
       "        vertical-align: middle;\n",
       "    }\n",
       "\n",
       "    .dataframe tbody tr th {\n",
       "        vertical-align: top;\n",
       "    }\n",
       "\n",
       "    .dataframe thead th {\n",
       "        text-align: right;\n",
       "    }\n",
       "</style>\n",
       "<table border=\"1\" class=\"dataframe\">\n",
       "  <thead>\n",
       "    <tr style=\"text-align: right;\">\n",
       "      <th></th>\n",
       "      <th>Neighborhood</th>\n",
       "      <th>KitchenQual</th>\n",
       "      <th>MSZoning</th>\n",
       "    </tr>\n",
       "  </thead>\n",
       "  <tbody>\n",
       "    <tr>\n",
       "      <th>count</th>\n",
       "      <td>2919</td>\n",
       "      <td>2918</td>\n",
       "      <td>2915</td>\n",
       "    </tr>\n",
       "    <tr>\n",
       "      <th>unique</th>\n",
       "      <td>25</td>\n",
       "      <td>4</td>\n",
       "      <td>5</td>\n",
       "    </tr>\n",
       "    <tr>\n",
       "      <th>top</th>\n",
       "      <td>NAmes</td>\n",
       "      <td>TA</td>\n",
       "      <td>RL</td>\n",
       "    </tr>\n",
       "    <tr>\n",
       "      <th>freq</th>\n",
       "      <td>443</td>\n",
       "      <td>1492</td>\n",
       "      <td>2265</td>\n",
       "    </tr>\n",
       "  </tbody>\n",
       "</table>\n",
       "</div>"
      ],
      "text/plain": [
       "       Neighborhood KitchenQual MSZoning\n",
       "count          2919        2918     2915\n",
       "unique           25           4        5\n",
       "top           NAmes          TA       RL\n",
       "freq            443        1492     2265"
      ]
     },
     "execution_count": 12,
     "metadata": {},
     "output_type": "execute_result"
    }
   ],
   "source": [
    "df.describe(include = 'object')"
   ]
  },
  {
   "cell_type": "code",
   "execution_count": 13,
   "id": "bc2c8b9a-6284-4e4b-922a-85e85b0a6678",
   "metadata": {
    "tags": []
   },
   "outputs": [
    {
     "data": {
      "text/plain": [
       "Text(0.5, 0, 'Precio de venta, US $')"
      ]
     },
     "execution_count": 13,
     "metadata": {},
     "output_type": "execute_result"
    },
    {
     "data": {
      "image/png": "[encoded data removed]",
      "text/plain": [
       "<Figure size 640x480 with 1 Axes>"
      ]
     },
     "metadata": {},
     "output_type": "display_data"
    }
   ],
   "source": [
    "fig, ax = plt.subplots()\n",
    "sns.histplot(x=df.SalePrice, ax=ax, kde=True)\n",
    "ax.set_title('Distribucion de precios de inmueble')\n",
    "ax.set_xlabel('Precio de venta, US $')"
   ]
  },
  {
   "cell_type": "code",
   "execution_count": 19,
   "id": "a22bdd8b-1696-47a7-a465-bc92eeff56b3",
   "metadata": {
    "tags": []
   },
   "outputs": [
    {
     "data": {
      "text/plain": [
       "OverallQual        0\n",
       "GrLivArea          0\n",
       "Neighborhood       0\n",
       "YearBuilt          0\n",
       "GarageCars         1\n",
       "TotalBsmtSF        1\n",
       "KitchenQual        1\n",
       "FullBath           0\n",
       "MSZoning           4\n",
       "LotArea            0\n",
       "SalePrice       1459\n",
       "dtype: int64"
      ]
     },
     "execution_count": 19,
     "metadata": {},
     "output_type": "execute_result"
    }
   ],
   "source": [
    "df.isna().sum()"
   ]
  },
  {
   "cell_type": "code",
   "execution_count": 20,
   "id": "a76be041-3682-4f0a-b771-608a97dc1261",
   "metadata": {
    "tags": []
   },
   "outputs": [],
   "source": [
    "data = df.select_dtypes('number').corr()"
   ]
  },
  {
   "cell_type": "code",
   "execution_count": 21,
   "id": "45c2ee38-cd06-456d-bc8f-a6fa095cbb9b",
   "metadata": {
    "tags": []
   },
   "outputs": [
    {
     "data": {
      "text/html": [
       "<div>\n",
       "<style scoped>\n",
       "    .dataframe tbody tr th:only-of-type {\n",
       "        vertical-align: middle;\n",
       "    }\n",
       "\n",
       "    .dataframe tbody tr th {\n",
       "        vertical-align: top;\n",
       "    }\n",
       "\n",
       "    .dataframe thead th {\n",
       "        text-align: right;\n",
       "    }\n",
       "</style>\n",
       "<table border=\"1\" class=\"dataframe\">\n",
       "  <thead>\n",
       "    <tr style=\"text-align: right;\">\n",
       "      <th></th>\n",
       "      <th>OverallQual</th>\n",
       "      <th>GrLivArea</th>\n",
       "      <th>YearBuilt</th>\n",
       "      <th>GarageCars</th>\n",
       "      <th>TotalBsmtSF</th>\n",
       "      <th>FullBath</th>\n",
       "      <th>LotArea</th>\n",
       "      <th>SalePrice</th>\n",
       "    </tr>\n",
       "  </thead>\n",
       "  <tbody>\n",
       "    <tr>\n",
       "      <th>OverallQual</th>\n",
       "      <td>1.000000</td>\n",
       "      <td>0.575126</td>\n",
       "      <td>0.597554</td>\n",
       "      <td>0.600744</td>\n",
       "      <td>0.549294</td>\n",
       "      <td>0.528483</td>\n",
       "      <td>0.100541</td>\n",
       "      <td>0.790982</td>\n",
       "    </tr>\n",
       "    <tr>\n",
       "      <th>GrLivArea</th>\n",
       "      <td>0.575126</td>\n",
       "      <td>1.000000</td>\n",
       "      <td>0.242666</td>\n",
       "      <td>0.489933</td>\n",
       "      <td>0.445276</td>\n",
       "      <td>0.630286</td>\n",
       "      <td>0.284519</td>\n",
       "      <td>0.708624</td>\n",
       "    </tr>\n",
       "    <tr>\n",
       "      <th>YearBuilt</th>\n",
       "      <td>0.597554</td>\n",
       "      <td>0.242666</td>\n",
       "      <td>1.000000</td>\n",
       "      <td>0.538074</td>\n",
       "      <td>0.408515</td>\n",
       "      <td>0.471169</td>\n",
       "      <td>0.024128</td>\n",
       "      <td>0.522897</td>\n",
       "    </tr>\n",
       "    <tr>\n",
       "      <th>GarageCars</th>\n",
       "      <td>0.600744</td>\n",
       "      <td>0.489933</td>\n",
       "      <td>0.538074</td>\n",
       "      <td>1.000000</td>\n",
       "      <td>0.437997</td>\n",
       "      <td>0.479988</td>\n",
       "      <td>0.180434</td>\n",
       "      <td>0.640409</td>\n",
       "    </tr>\n",
       "    <tr>\n",
       "      <th>TotalBsmtSF</th>\n",
       "      <td>0.549294</td>\n",
       "      <td>0.445276</td>\n",
       "      <td>0.408515</td>\n",
       "      <td>0.437997</td>\n",
       "      <td>1.000000</td>\n",
       "      <td>0.327762</td>\n",
       "      <td>0.254138</td>\n",
       "      <td>0.613581</td>\n",
       "    </tr>\n",
       "    <tr>\n",
       "      <th>FullBath</th>\n",
       "      <td>0.528483</td>\n",
       "      <td>0.630286</td>\n",
       "      <td>0.471169</td>\n",
       "      <td>0.479988</td>\n",
       "      <td>0.327762</td>\n",
       "      <td>1.000000</td>\n",
       "      <td>0.125826</td>\n",
       "      <td>0.560664</td>\n",
       "    </tr>\n",
       "    <tr>\n",
       "      <th>LotArea</th>\n",
       "      <td>0.100541</td>\n",
       "      <td>0.284519</td>\n",
       "      <td>0.024128</td>\n",
       "      <td>0.180434</td>\n",
       "      <td>0.254138</td>\n",
       "      <td>0.125826</td>\n",
       "      <td>1.000000</td>\n",
       "      <td>0.263843</td>\n",
       "    </tr>\n",
       "    <tr>\n",
       "      <th>SalePrice</th>\n",
       "      <td>0.790982</td>\n",
       "      <td>0.708624</td>\n",
       "      <td>0.522897</td>\n",
       "      <td>0.640409</td>\n",
       "      <td>0.613581</td>\n",
       "      <td>0.560664</td>\n",
       "      <td>0.263843</td>\n",
       "      <td>1.000000</td>\n",
       "    </tr>\n",
       "  </tbody>\n",
       "</table>\n",
       "</div>"
      ],
      "text/plain": [
       "             OverallQual  GrLivArea  YearBuilt  GarageCars  TotalBsmtSF  \\\n",
       "OverallQual     1.000000   0.575126   0.597554    0.600744     0.549294   \n",
       "GrLivArea       0.575126   1.000000   0.242666    0.489933     0.445276   \n",
       "YearBuilt       0.597554   0.242666   1.000000    0.538074     0.408515   \n",
       "GarageCars      0.600744   0.489933   0.538074    1.000000     0.437997   \n",
       "TotalBsmtSF     0.549294   0.445276   0.408515    0.437997     1.000000   \n",
       "FullBath        0.528483   0.630286   0.471169    0.479988     0.327762   \n",
       "LotArea         0.100541   0.284519   0.024128    0.180434     0.254138   \n",
       "SalePrice       0.790982   0.708624   0.522897    0.640409     0.613581   \n",
       "\n",
       "             FullBath   LotArea  SalePrice  \n",
       "OverallQual  0.528483  0.100541   0.790982  \n",
       "GrLivArea    0.630286  0.284519   0.708624  \n",
       "YearBuilt    0.471169  0.024128   0.522897  \n",
       "GarageCars   0.479988  0.180434   0.640409  \n",
       "TotalBsmtSF  0.327762  0.254138   0.613581  \n",
       "FullBath     1.000000  0.125826   0.560664  \n",
       "LotArea      0.125826  1.000000   0.263843  \n",
       "SalePrice    0.560664  0.263843   1.000000  "
      ]
     },
     "execution_count": 21,
     "metadata": {},
     "output_type": "execute_result"
    }
   ],
   "source": [
    "data"
   ]
  },
  {
   "cell_type": "code",
   "execution_count": 16,
   "id": "1f229d76-96c2-4cb8-8c66-54b89fab8931",
   "metadata": {
    "tags": []
   },
   "outputs": [
    {
     "data": {
      "image/png": "[encoded data removed]",
      "text/plain": [
       "<Figure size 640x480 with 2 Axes>"
      ]
     },
     "metadata": {},
     "output_type": "display_data"
    }
   ],
   "source": [
    "fig, ax = plt.subplots()\n",
    "sns.heatmap(data, cmap='coolwarm', vmin=-1, vmax=1, center=0, annot=True, ax= ax)\n",
    "ax.set_title('Coeficientes de correlacion entre variables')\n",
    "plt.show()"
   ]
  },
  {
   "cell_type": "markdown",
   "id": "43c3e68a-3284-4867-ad82-bc0b32a38bdf",
   "metadata": {},
   "source": [
    "Preprocesamiento de datos"
   ]
  },
  {
   "cell_type": "code",
   "execution_count": 34,
   "id": "76c4c2cc-410c-4b72-9040-f0dd3a916089",
   "metadata": {
    "tags": []
   },
   "outputs": [
    {
     "data": {
      "text/plain": [
       "OverallQual        0\n",
       "GrLivArea          0\n",
       "Neighborhood       0\n",
       "YearBuilt          0\n",
       "GarageCars         0\n",
       "TotalBsmtSF        0\n",
       "KitchenQual        0\n",
       "FullBath           0\n",
       "MSZoning           0\n",
       "LotArea            0\n",
       "SalePrice       1459\n",
       "dtype: int64"
      ]
     },
     "execution_count": 34,
     "metadata": {},
     "output_type": "execute_result"
    }
   ],
   "source": [
    "df.isna().sum()"
   ]
  },
  {
   "cell_type": "code",
   "execution_count": 29,
   "id": "6c0896e0-9cab-47bd-b79a-ffcd9d39a536",
   "metadata": {
    "tags": []
   },
   "outputs": [
    {
     "data": {
      "text/plain": [
       "OverallQual       0\n",
       "GrLivArea         0\n",
       "YearBuilt         0\n",
       "GarageCars        0\n",
       "TotalBsmtSF       0\n",
       "FullBath          0\n",
       "LotArea           0\n",
       "SalePrice      1459\n",
       "dtype: int64"
      ]
     },
     "execution_count": 29,
     "metadata": {},
     "output_type": "execute_result"
    }
   ],
   "source": [
    "df.select_dtypes('number').isna().sum()"
   ]
  },
  {
   "cell_type": "code",
   "execution_count": 20,
   "id": "85aa5bb4-7c05-43ee-86b1-0bf4350015be",
   "metadata": {
    "tags": []
   },
   "outputs": [],
   "source": [
    "df.loc[:,'TotalBsmtSF'] = df.TotalBsmtSF.fillna(df.TotalBsmtSF.mean())"
   ]
  },
  {
   "cell_type": "code",
   "execution_count": 28,
   "id": "2a452257-c9db-43b7-9ceb-04b797b65b2b",
   "metadata": {
    "tags": []
   },
   "outputs": [],
   "source": [
    "df.loc[:,'GarageCars'] = df.GarageCars.fillna(df.GarageCars.mode()[0])"
   ]
  },
  {
   "cell_type": "code",
   "execution_count": 30,
   "id": "37e0169f-9324-412a-9858-e61f75036dae",
   "metadata": {
    "tags": []
   },
   "outputs": [
    {
     "data": {
      "text/plain": [
       "Neighborhood    0\n",
       "KitchenQual     1\n",
       "MSZoning        4\n",
       "dtype: int64"
      ]
     },
     "execution_count": 30,
     "metadata": {},
     "output_type": "execute_result"
    }
   ],
   "source": [
    "df.select_dtypes('object').isna().sum()"
   ]
  },
  {
   "cell_type": "code",
   "execution_count": 32,
   "id": "e129ac01-cac0-47fb-ba4e-a7103144265c",
   "metadata": {
    "tags": []
   },
   "outputs": [],
   "source": [
    "df.loc[:,'MSZoning'] = df.MSZoning.fillna(df.MSZoning.mode()[0])"
   ]
  },
  {
   "cell_type": "code",
   "execution_count": 33,
   "id": "3eba3410-af3d-42dd-94db-c7c7bfac6bef",
   "metadata": {
    "tags": []
   },
   "outputs": [],
   "source": [
    "df.loc[:,'KitchenQual'] = df.KitchenQual.fillna(df.KitchenQual.mode()[0])"
   ]
  },
  {
   "cell_type": "markdown",
   "id": "569fe97a-b5a1-4239-8c4e-7d6dc06d3bd9",
   "metadata": {},
   "source": [
    "Dividir el dataset en datos de entrenamiento y los datos a predecir:"
   ]
  },
  {
   "cell_type": "code",
   "execution_count": 50,
   "id": "a90f29a0-e63a-40e6-b8f7-dd6ebd64c739",
   "metadata": {
    "tags": []
   },
   "outputs": [],
   "source": [
    "X = df.iloc[:,:-1]"
   ]
  },
  {
   "cell_type": "markdown",
   "id": "be4c4b99-1b10-4f1d-886b-39b89203f2fb",
   "metadata": {},
   "source": [
    "Preprocesamiento de los datos:"
   ]
  },
  {
   "cell_type": "code",
   "execution_count": 56,
   "id": "ca42eb55-95ed-4b44-84c7-14655b6128f9",
   "metadata": {
    "tags": []
   },
   "outputs": [
    {
     "data": {
      "text/html": [
       "<div>\n",
       "<style scoped>\n",
       "    .dataframe tbody tr th:only-of-type {\n",
       "        vertical-align: middle;\n",
       "    }\n",
       "\n",
       "    .dataframe tbody tr th {\n",
       "        vertical-align: top;\n",
       "    }\n",
       "\n",
       "    .dataframe thead th {\n",
       "        text-align: right;\n",
       "    }\n",
       "</style>\n",
       "<table border=\"1\" class=\"dataframe\">\n",
       "  <thead>\n",
       "    <tr style=\"text-align: right;\">\n",
       "      <th></th>\n",
       "      <th></th>\n",
       "      <th>OverallQual</th>\n",
       "      <th>GrLivArea</th>\n",
       "      <th>Neighborhood</th>\n",
       "      <th>YearBuilt</th>\n",
       "      <th>GarageCars</th>\n",
       "      <th>TotalBsmtSF</th>\n",
       "      <th>KitchenQual</th>\n",
       "      <th>FullBath</th>\n",
       "      <th>MSZoning</th>\n",
       "      <th>LotArea</th>\n",
       "    </tr>\n",
       "  </thead>\n",
       "  <tbody>\n",
       "    <tr>\n",
       "      <th rowspan=\"3\" valign=\"top\">train</th>\n",
       "      <th>1208</th>\n",
       "      <td>5</td>\n",
       "      <td>1283</td>\n",
       "      <td>NAmes</td>\n",
       "      <td>1962</td>\n",
       "      <td>2.0</td>\n",
       "      <td>931.0</td>\n",
       "      <td>TA</td>\n",
       "      <td>1</td>\n",
       "      <td>RL</td>\n",
       "      <td>7763</td>\n",
       "    </tr>\n",
       "    <tr>\n",
       "      <th>969</th>\n",
       "      <td>6</td>\n",
       "      <td>1095</td>\n",
       "      <td>NAmes</td>\n",
       "      <td>1958</td>\n",
       "      <td>1.0</td>\n",
       "      <td>588.0</td>\n",
       "      <td>TA</td>\n",
       "      <td>1</td>\n",
       "      <td>RL</td>\n",
       "      <td>10382</td>\n",
       "    </tr>\n",
       "    <tr>\n",
       "      <th>1051</th>\n",
       "      <td>7</td>\n",
       "      <td>1316</td>\n",
       "      <td>CollgCr</td>\n",
       "      <td>2007</td>\n",
       "      <td>2.0</td>\n",
       "      <td>1316.0</td>\n",
       "      <td>Gd</td>\n",
       "      <td>2</td>\n",
       "      <td>RL</td>\n",
       "      <td>11175</td>\n",
       "    </tr>\n",
       "    <tr>\n",
       "      <th rowspan=\"2\" valign=\"top\">test</th>\n",
       "      <th>588</th>\n",
       "      <td>5</td>\n",
       "      <td>1728</td>\n",
       "      <td>NAmes</td>\n",
       "      <td>1965</td>\n",
       "      <td>2.0</td>\n",
       "      <td>1728.0</td>\n",
       "      <td>TA</td>\n",
       "      <td>2</td>\n",
       "      <td>RL</td>\n",
       "      <td>11072</td>\n",
       "    </tr>\n",
       "    <tr>\n",
       "      <th>900</th>\n",
       "      <td>5</td>\n",
       "      <td>1040</td>\n",
       "      <td>Sawyer</td>\n",
       "      <td>1968</td>\n",
       "      <td>2.0</td>\n",
       "      <td>1040.0</td>\n",
       "      <td>TA</td>\n",
       "      <td>1</td>\n",
       "      <td>RL</td>\n",
       "      <td>7476</td>\n",
       "    </tr>\n",
       "  </tbody>\n",
       "</table>\n",
       "</div>"
      ],
      "text/plain": [
       "            OverallQual  GrLivArea Neighborhood  YearBuilt  GarageCars  \\\n",
       "train 1208            5       1283        NAmes       1962         2.0   \n",
       "      969             6       1095        NAmes       1958         1.0   \n",
       "      1051            7       1316      CollgCr       2007         2.0   \n",
       "test  588             5       1728        NAmes       1965         2.0   \n",
       "      900             5       1040       Sawyer       1968         2.0   \n",
       "\n",
       "            TotalBsmtSF KitchenQual  FullBath MSZoning  LotArea  \n",
       "train 1208        931.0          TA         1       RL     7763  \n",
       "      969         588.0          TA         1       RL    10382  \n",
       "      1051       1316.0          Gd         2       RL    11175  \n",
       "test  588        1728.0          TA         2       RL    11072  \n",
       "      900        1040.0          TA         1       RL     7476  "
      ]
     },
     "execution_count": 56,
     "metadata": {},
     "output_type": "execute_result"
    }
   ],
   "source": [
    "X.sample(5)"
   ]
  },
  {
   "cell_type": "code",
   "execution_count": 57,
   "id": "47e138dc-3f12-432e-ae39-8508adaea005",
   "metadata": {
    "tags": []
   },
   "outputs": [],
   "source": [
    "X_numerical = X.select_dtypes('number')\n",
    "X_categorical = X.select_dtypes('object')"
   ]
  },
  {
   "cell_type": "code",
   "execution_count": 58,
   "id": "48b12954-cfdc-4cdb-9d8c-b21a6f366ef8",
   "metadata": {
    "tags": []
   },
   "outputs": [
    {
     "data": {
      "text/html": [
       "<div>\n",
       "<style scoped>\n",
       "    .dataframe tbody tr th:only-of-type {\n",
       "        vertical-align: middle;\n",
       "    }\n",
       "\n",
       "    .dataframe tbody tr th {\n",
       "        vertical-align: top;\n",
       "    }\n",
       "\n",
       "    .dataframe thead th {\n",
       "        text-align: right;\n",
       "    }\n",
       "</style>\n",
       "<table border=\"1\" class=\"dataframe\">\n",
       "  <thead>\n",
       "    <tr style=\"text-align: right;\">\n",
       "      <th></th>\n",
       "      <th></th>\n",
       "      <th>OverallQual</th>\n",
       "      <th>GrLivArea</th>\n",
       "      <th>YearBuilt</th>\n",
       "      <th>GarageCars</th>\n",
       "      <th>TotalBsmtSF</th>\n",
       "      <th>FullBath</th>\n",
       "      <th>LotArea</th>\n",
       "    </tr>\n",
       "  </thead>\n",
       "  <tbody>\n",
       "    <tr>\n",
       "      <th>train</th>\n",
       "      <th>875</th>\n",
       "      <td>8</td>\n",
       "      <td>2610</td>\n",
       "      <td>2007</td>\n",
       "      <td>2.0</td>\n",
       "      <td>1184.0</td>\n",
       "      <td>2</td>\n",
       "      <td>9000</td>\n",
       "    </tr>\n",
       "    <tr>\n",
       "      <th>test</th>\n",
       "      <th>1302</th>\n",
       "      <td>6</td>\n",
       "      <td>1773</td>\n",
       "      <td>1961</td>\n",
       "      <td>2.0</td>\n",
       "      <td>1313.0</td>\n",
       "      <td>2</td>\n",
       "      <td>10800</td>\n",
       "    </tr>\n",
       "    <tr>\n",
       "      <th>train</th>\n",
       "      <th>1136</th>\n",
       "      <td>6</td>\n",
       "      <td>1252</td>\n",
       "      <td>1950</td>\n",
       "      <td>1.0</td>\n",
       "      <td>1032.0</td>\n",
       "      <td>1</td>\n",
       "      <td>9600</td>\n",
       "    </tr>\n",
       "    <tr>\n",
       "      <th rowspan=\"2\" valign=\"top\">test</th>\n",
       "      <th>1119</th>\n",
       "      <td>5</td>\n",
       "      <td>1991</td>\n",
       "      <td>1895</td>\n",
       "      <td>0.0</td>\n",
       "      <td>957.0</td>\n",
       "      <td>2</td>\n",
       "      <td>8250</td>\n",
       "    </tr>\n",
       "    <tr>\n",
       "      <th>948</th>\n",
       "      <td>5</td>\n",
       "      <td>1144</td>\n",
       "      <td>1960</td>\n",
       "      <td>1.0</td>\n",
       "      <td>1144.0</td>\n",
       "      <td>1</td>\n",
       "      <td>9100</td>\n",
       "    </tr>\n",
       "  </tbody>\n",
       "</table>\n",
       "</div>"
      ],
      "text/plain": [
       "            OverallQual  GrLivArea  YearBuilt  GarageCars  TotalBsmtSF  \\\n",
       "train 875             8       2610       2007         2.0       1184.0   \n",
       "test  1302            6       1773       1961         2.0       1313.0   \n",
       "train 1136            6       1252       1950         1.0       1032.0   \n",
       "test  1119            5       1991       1895         0.0        957.0   \n",
       "      948             5       1144       1960         1.0       1144.0   \n",
       "\n",
       "            FullBath  LotArea  \n",
       "train 875          2     9000  \n",
       "test  1302         2    10800  \n",
       "train 1136         1     9600  \n",
       "test  1119         2     8250  \n",
       "      948          1     9100  "
      ]
     },
     "execution_count": 58,
     "metadata": {},
     "output_type": "execute_result"
    }
   ],
   "source": [
    "X_numerical.sample(5)"
   ]
  },
  {
   "cell_type": "code",
   "execution_count": 59,
   "id": "b8761cba-fae4-4f24-8984-d5e09c1df646",
   "metadata": {
    "tags": []
   },
   "outputs": [],
   "source": [
    "from sklearn.preprocessing import StandardScaler"
   ]
  },
  {
   "cell_type": "code",
   "execution_count": 63,
   "id": "8a607ed8-a36d-41b9-afa0-56fdd2d60868",
   "metadata": {
    "tags": []
   },
   "outputs": [],
   "source": [
    "sd_scaler = StandardScaler()"
   ]
  },
  {
   "cell_type": "code",
   "execution_count": 61,
   "id": "374da22f-be67-420f-a9d0-114d6cdfdb67",
   "metadata": {
    "tags": []
   },
   "outputs": [],
   "source": [
    "numeric_features = X_numerical.columns"
   ]
  },
  {
   "cell_type": "code",
   "execution_count": 72,
   "id": "38e476e0-ae82-432b-91c4-6348dd63e004",
   "metadata": {
    "tags": []
   },
   "outputs": [
    {
     "data": {
      "text/plain": [
       "array([[0., 0., 0., ..., 0., 0., 0.]])"
      ]
     },
     "execution_count": 72,
     "metadata": {},
     "output_type": "execute_result"
    }
   ],
   "source": [
    "sd_scaler.fit_transform(X_numerical['OverallQual'].values.reshape(1,-1))"
   ]
  },
  {
   "cell_type": "code",
   "execution_count": 73,
   "id": "ab8b7c7b-79b6-497e-8ceb-d5706bd85821",
   "metadata": {
    "tags": []
   },
   "outputs": [],
   "source": [
    "for col in X_numerical.columns:\n",
    "    X_numerical[col] = sd_scaler.fit_transform(X_numerical[col].to_frame())"
   ]
  },
  {
   "cell_type": "code",
   "execution_count": 75,
   "id": "891f1067-699e-4be8-9363-055fce7a61bf",
   "metadata": {
    "tags": []
   },
   "outputs": [],
   "source": [
    "from sklearn.preprocessing import LabelEncoder"
   ]
  },
  {
   "cell_type": "code",
   "execution_count": 76,
   "id": "0aba1203-fd1e-4c1a-ab9c-7a32d1e8a6e2",
   "metadata": {
    "tags": []
   },
   "outputs": [],
   "source": [
    "encoder = LabelEncoder()"
   ]
  },
  {
   "cell_type": "code",
   "execution_count": 79,
   "id": "6bd5e7cf-5526-4e4f-9871-e3d8ac8926e1",
   "metadata": {
    "tags": []
   },
   "outputs": [],
   "source": [
    "for col in X_categorical.columns:\n",
    "    X_categorical[col] = encoder.fit_transform(X_categorical[col])"
   ]
  },
  {
   "cell_type": "code",
   "execution_count": 81,
   "id": "b374f67e-e5ec-4138-ae9c-0dc94166abc4",
   "metadata": {
    "tags": []
   },
   "outputs": [
    {
     "data": {
      "text/plain": [
       "OverallQual    0\n",
       "GrLivArea      0\n",
       "YearBuilt      0\n",
       "GarageCars     0\n",
       "TotalBsmtSF    0\n",
       "FullBath       0\n",
       "LotArea        0\n",
       "dtype: int64"
      ]
     },
     "execution_count": 81,
     "metadata": {},
     "output_type": "execute_result"
    }
   ],
   "source": [
    "X_numerical.isna().sum()"
   ]
  },
  {
   "cell_type": "code",
   "execution_count": 82,
   "id": "be08589a-67b2-442d-904a-79094b73fc0c",
   "metadata": {
    "tags": []
   },
   "outputs": [
    {
     "data": {
      "text/plain": [
       "Neighborhood    0\n",
       "KitchenQual     0\n",
       "MSZoning        0\n",
       "dtype: int64"
      ]
     },
     "execution_count": 82,
     "metadata": {},
     "output_type": "execute_result"
    }
   ],
   "source": [
    "X_categorical.isna().sum()"
   ]
  },
  {
   "cell_type": "markdown",
   "id": "ef7bab4a-1cc9-4fed-a43c-fef7e3040b26",
   "metadata": {},
   "source": [
    "Tras el preprocesamiento, reunir de nuevo los dos datasets: variables numericas y categoricas."
   ]
  },
  {
   "cell_type": "code",
   "execution_count": 83,
   "id": "c3cd7146-eb26-43ab-9ec0-949858a3cef3",
   "metadata": {
    "tags": []
   },
   "outputs": [],
   "source": [
    "X = pd.concat([X_numerical, X_categorical], axis=1)"
   ]
  },
  {
   "cell_type": "markdown",
   "id": "a68593f1-b306-47ce-89be-7a36ef42ca81",
   "metadata": {},
   "source": [
    "Separar los datos en entrenamiento y test:"
   ]
  },
  {
   "cell_type": "code",
   "execution_count": 90,
   "id": "fa1e3f7c-05c2-45e6-a7c1-619ac8e895b6",
   "metadata": {
    "tags": []
   },
   "outputs": [],
   "source": [
    "test_size = 0.2\n",
    "random_state = 29"
   ]
  },
  {
   "cell_type": "code",
   "execution_count": 91,
   "id": "96aeb915-0f7c-4199-b436-9b11bfc6a7d4",
   "metadata": {
    "tags": []
   },
   "outputs": [],
   "source": [
    "from sklearn.model_selection import train_test_split"
   ]
  },
  {
   "cell_type": "code",
   "execution_count": 92,
   "id": "efea86a6-f995-400d-b7c1-0601985d1a67",
   "metadata": {
    "tags": []
   },
   "outputs": [],
   "source": [
    "X_training = X.loc['train']\n",
    "X_testing = X.loc['test']"
   ]
  },
  {
   "cell_type": "code",
   "execution_count": 93,
   "id": "9f409ff7-0fbe-47ed-99d7-cd75143aefb8",
   "metadata": {
    "tags": []
   },
   "outputs": [],
   "source": [
    "y = df.iloc[:,-1]\n",
    "y_training = y.loc['train']\n",
    "y_testing = y.loc['test']"
   ]
  },
  {
   "cell_type": "code",
   "execution_count": 98,
   "id": "45eee48e-6147-4e73-81c6-557e9c571d49",
   "metadata": {
    "tags": []
   },
   "outputs": [],
   "source": [
    "X_train, X_eval, y_train, y_eval = train_test_split(X_training, y_training, test_size = test_size, random_state = random_state)"
   ]
  },
  {
   "cell_type": "markdown",
   "id": "0506d632-ec18-44b5-93cd-396c8f79f73f",
   "metadata": {},
   "source": [
    "Creamos el modelo de regresion lineal"
   ]
  },
  {
   "cell_type": "code",
   "execution_count": 87,
   "id": "de874548-ab0b-48d5-9f14-739fa757e9ff",
   "metadata": {
    "tags": []
   },
   "outputs": [],
   "source": [
    "from sklearn.linear_model import LinearRegression"
   ]
  },
  {
   "cell_type": "code",
   "execution_count": 99,
   "id": "cf012fbd-6c73-45bd-a7bf-0f8c90857060",
   "metadata": {
    "tags": []
   },
   "outputs": [],
   "source": [
    "linear_reg = LinearRegression()"
   ]
  },
  {
   "cell_type": "code",
   "execution_count": 100,
   "id": "3aa5e867-33d2-4d51-9b5e-031b612b0f7b",
   "metadata": {
    "collapsed": true,
    "jupyter": {
     "outputs_hidden": true
    },
    "tags": []
   },
   "outputs": [
    {
     "data": {
      "text/html": [
       "<style>#sk-container-id-2 {\n",
       "  /* Definition of color scheme common for light and dark mode */\n",
       "  --sklearn-color-text: black;\n",
       "  --sklearn-color-line: gray;\n",
       "  /* Definition of color scheme for unfitted estimators */\n",
       "  --sklearn-color-unfitted-level-0: #fff5e6;\n",
       "  --sklearn-color-unfitted-level-1: #f6e4d2;\n",
       "  --sklearn-color-unfitted-level-2: #ffe0b3;\n",
       "  --sklearn-color-unfitted-level-3: chocolate;\n",
       "  /* Definition of color scheme for fitted estimators */\n",
       "  --sklearn-color-fitted-level-0: #f0f8ff;\n",
       "  --sklearn-color-fitted-level-1: #d4ebff;\n",
       "  --sklearn-color-fitted-level-2: #b3dbfd;\n",
       "  --sklearn-color-fitted-level-3: cornflowerblue;\n",
       "\n",
       "  /* Specific color for light theme */\n",
       "  --sklearn-color-text-on-default-background: var(--sg-text-color, var(--theme-code-foreground, var(--jp-content-font-color1, black)));\n",
       "  --sklearn-color-background: var(--sg-background-color, var(--theme-background, var(--jp-layout-color0, white)));\n",
       "  --sklearn-color-border-box: var(--sg-text-color, var(--theme-code-foreground, var(--jp-content-font-color1, black)));\n",
       "  --sklearn-color-icon: #696969;\n",
       "\n",
       "  @media (prefers-color-scheme: dark) {\n",
       "    /* Redefinition of color scheme for dark theme */\n",
       "    --sklearn-color-text-on-default-background: var(--sg-text-color, var(--theme-code-foreground, var(--jp-content-font-color1, white)));\n",
       "    --sklearn-color-background: var(--sg-background-color, var(--theme-background, var(--jp-layout-color0, #111)));\n",
       "    --sklearn-color-border-box: var(--sg-text-color, var(--theme-code-foreground, var(--jp-content-font-color1, white)));\n",
       "    --sklearn-color-icon: #878787;\n",
       "  }\n",
       "}\n",
       "\n",
       "#sk-container-id-2 {\n",
       "  color: var(--sklearn-color-text);\n",
       "}\n",
       "\n",
       "#sk-container-id-2 pre {\n",
       "  padding: 0;\n",
       "}\n",
       "\n",
       "#sk-container-id-2 input.sk-hidden--visually {\n",
       "  border: 0;\n",
       "  clip: rect(1px 1px 1px 1px);\n",
       "  clip: rect(1px, 1px, 1px, 1px);\n",
       "  height: 1px;\n",
       "  margin: -1px;\n",
       "  overflow: hidden;\n",
       "  padding: 0;\n",
       "  position: absolute;\n",
       "  width: 1px;\n",
       "}\n",
       "\n",
       "#sk-container-id-2 div.sk-dashed-wrapped {\n",
       "  border: 1px dashed var(--sklearn-color-line);\n",
       "  margin: 0 0.4em 0.5em 0.4em;\n",
       "  box-sizing: border-box;\n",
       "  padding-bottom: 0.4em;\n",
       "  background-color: var(--sklearn-color-background);\n",
       "}\n",
       "\n",
       "#sk-container-id-2 div.sk-container {\n",
       "  /* jupyter's `normalize.less` sets `[hidden] { display: none; }`\n",
       "     but bootstrap.min.css set `[hidden] { display: none !important; }`\n",
       "     so we also need the `!important` here to be able to override the\n",
       "     default hidden behavior on the sphinx rendered scikit-learn.org.\n",
       "     See: https://github.com/scikit-learn/scikit-learn/issues/21755 */\n",
       "  display: inline-block !important;\n",
       "  position: relative;\n",
       "}\n",
       "\n",
       "#sk-container-id-2 div.sk-text-repr-fallback {\n",
       "  display: none;\n",
       "}\n",
       "\n",
       "div.sk-parallel-item,\n",
       "div.sk-serial,\n",
       "div.sk-item {\n",
       "  /* draw centered vertical line to link estimators */\n",
       "  background-image: linear-gradient(var(--sklearn-color-text-on-default-background), var(--sklearn-color-text-on-default-background));\n",
       "  background-size: 2px 100%;\n",
       "  background-repeat: no-repeat;\n",
       "  background-position: center center;\n",
       "}\n",
       "\n",
       "/* Parallel-specific style estimator block */\n",
       "\n",
       "#sk-container-id-2 div.sk-parallel-item::after {\n",
       "  content: \"\";\n",
       "  width: 100%;\n",
       "  border-bottom: 2px solid var(--sklearn-color-text-on-default-background);\n",
       "  flex-grow: 1;\n",
       "}\n",
       "\n",
       "#sk-container-id-2 div.sk-parallel {\n",
       "  display: flex;\n",
       "  align-items: stretch;\n",
       "  justify-content: center;\n",
       "  background-color: var(--sklearn-color-background);\n",
       "  position: relative;\n",
       "}\n",
       "\n",
       "#sk-container-id-2 div.sk-parallel-item {\n",
       "  display: flex;\n",
       "  flex-direction: column;\n",
       "}\n",
       "\n",
       "#sk-container-id-2 div.sk-parallel-item:first-child::after {\n",
       "  align-self: flex-end;\n",
       "  width: 50%;\n",
       "}\n",
       "\n",
       "#sk-container-id-2 div.sk-parallel-item:last-child::after {\n",
       "  align-self: flex-start;\n",
       "  width: 50%;\n",
       "}\n",
       "\n",
       "#sk-container-id-2 div.sk-parallel-item:only-child::after {\n",
       "  width: 0;\n",
       "}\n",
       "\n",
       "/* Serial-specific style estimator block */\n",
       "\n",
       "#sk-container-id-2 div.sk-serial {\n",
       "  display: flex;\n",
       "  flex-direction: column;\n",
       "  align-items: center;\n",
       "  background-color: var(--sklearn-color-background);\n",
       "  padding-right: 1em;\n",
       "  padding-left: 1em;\n",
       "}\n",
       "\n",
       "\n",
       "/* Toggleable style: style used for estimator/Pipeline/ColumnTransformer box that is\n",
       "clickable and can be expanded/collapsed.\n",
       "- Pipeline and ColumnTransformer use this feature and define the default style\n",
       "- Estimators will overwrite some part of the style using the `sk-estimator` class\n",
       "*/\n",
       "\n",
       "/* Pipeline and ColumnTransformer style (default) */\n",
       "\n",
       "#sk-container-id-2 div.sk-toggleable {\n",
       "  /* Default theme specific background. It is overwritten whether we have a\n",
       "  specific estimator or a Pipeline/ColumnTransformer */\n",
       "  background-color: var(--sklearn-color-background);\n",
       "}\n",
       "\n",
       "/* Toggleable label */\n",
       "#sk-container-id-2 label.sk-toggleable__label {\n",
       "  cursor: pointer;\n",
       "  display: block;\n",
       "  width: 100%;\n",
       "  margin-bottom: 0;\n",
       "  padding: 0.5em;\n",
       "  box-sizing: border-box;\n",
       "  text-align: center;\n",
       "}\n",
       "\n",
       "#sk-container-id-2 label.sk-toggleable__label-arrow:before {\n",
       "  /* Arrow on the left of the label */\n",
       "  content: \"▸\";\n",
       "  float: left;\n",
       "  margin-right: 0.25em;\n",
       "  color: var(--sklearn-color-icon);\n",
       "}\n",
       "\n",
       "#sk-container-id-2 label.sk-toggleable__label-arrow:hover:before {\n",
       "  color: var(--sklearn-color-text);\n",
       "}\n",
       "\n",
       "/* Toggleable content - dropdown */\n",
       "\n",
       "#sk-container-id-2 div.sk-toggleable__content {\n",
       "  max-height: 0;\n",
       "  max-width: 0;\n",
       "  overflow: hidden;\n",
       "  text-align: left;\n",
       "  /* unfitted */\n",
       "  background-color: var(--sklearn-color-unfitted-level-0);\n",
       "}\n",
       "\n",
       "#sk-container-id-2 div.sk-toggleable__content.fitted {\n",
       "  /* fitted */\n",
       "  background-color: var(--sklearn-color-fitted-level-0);\n",
       "}\n",
       "\n",
       "#sk-container-id-2 div.sk-toggleable__content pre {\n",
       "  margin: 0.2em;\n",
       "  border-radius: 0.25em;\n",
       "  color: var(--sklearn-color-text);\n",
       "  /* unfitted */\n",
       "  background-color: var(--sklearn-color-unfitted-level-0);\n",
       "}\n",
       "\n",
       "#sk-container-id-2 div.sk-toggleable__content.fitted pre {\n",
       "  /* unfitted */\n",
       "  background-color: var(--sklearn-color-fitted-level-0);\n",
       "}\n",
       "\n",
       "#sk-container-id-2 input.sk-toggleable__control:checked~div.sk-toggleable__content {\n",
       "  /* Expand drop-down */\n",
       "  max-height: 200px;\n",
       "  max-width: 100%;\n",
       "  overflow: auto;\n",
       "}\n",
       "\n",
       "#sk-container-id-2 input.sk-toggleable__control:checked~label.sk-toggleable__label-arrow:before {\n",
       "  content: \"▾\";\n",
       "}\n",
       "\n",
       "/* Pipeline/ColumnTransformer-specific style */\n",
       "\n",
       "#sk-container-id-2 div.sk-label input.sk-toggleable__control:checked~label.sk-toggleable__label {\n",
       "  color: var(--sklearn-color-text);\n",
       "  background-color: var(--sklearn-color-unfitted-level-2);\n",
       "}\n",
       "\n",
       "#sk-container-id-2 div.sk-label.fitted input.sk-toggleable__control:checked~label.sk-toggleable__label {\n",
       "  background-color: var(--sklearn-color-fitted-level-2);\n",
       "}\n",
       "\n",
       "/* Estimator-specific style */\n",
       "\n",
       "/* Colorize estimator box */\n",
       "#sk-container-id-2 div.sk-estimator input.sk-toggleable__control:checked~label.sk-toggleable__label {\n",
       "  /* unfitted */\n",
       "  background-color: var(--sklearn-color-unfitted-level-2);\n",
       "}\n",
       "\n",
       "#sk-container-id-2 div.sk-estimator.fitted input.sk-toggleable__control:checked~label.sk-toggleable__label {\n",
       "  /* fitted */\n",
       "  background-color: var(--sklearn-color-fitted-level-2);\n",
       "}\n",
       "\n",
       "#sk-container-id-2 div.sk-label label.sk-toggleable__label,\n",
       "#sk-container-id-2 div.sk-label label {\n",
       "  /* The background is the default theme color */\n",
       "  color: var(--sklearn-color-text-on-default-background);\n",
       "}\n",
       "\n",
       "/* On hover, darken the color of the background */\n",
       "#sk-container-id-2 div.sk-label:hover label.sk-toggleable__label {\n",
       "  color: var(--sklearn-color-text);\n",
       "  background-color: var(--sklearn-color-unfitted-level-2);\n",
       "}\n",
       "\n",
       "/* Label box, darken color on hover, fitted */\n",
       "#sk-container-id-2 div.sk-label.fitted:hover label.sk-toggleable__label.fitted {\n",
       "  color: var(--sklearn-color-text);\n",
       "  background-color: var(--sklearn-color-fitted-level-2);\n",
       "}\n",
       "\n",
       "/* Estimator label */\n",
       "\n",
       "#sk-container-id-2 div.sk-label label {\n",
       "  font-family: monospace;\n",
       "  font-weight: bold;\n",
       "  display: inline-block;\n",
       "  line-height: 1.2em;\n",
       "}\n",
       "\n",
       "#sk-container-id-2 div.sk-label-container {\n",
       "  text-align: center;\n",
       "}\n",
       "\n",
       "/* Estimator-specific */\n",
       "#sk-container-id-2 div.sk-estimator {\n",
       "  font-family: monospace;\n",
       "  border: 1px dotted var(--sklearn-color-border-box);\n",
       "  border-radius: 0.25em;\n",
       "  box-sizing: border-box;\n",
       "  margin-bottom: 0.5em;\n",
       "  /* unfitted */\n",
       "  background-color: var(--sklearn-color-unfitted-level-0);\n",
       "}\n",
       "\n",
       "#sk-container-id-2 div.sk-estimator.fitted {\n",
       "  /* fitted */\n",
       "  background-color: var(--sklearn-color-fitted-level-0);\n",
       "}\n",
       "\n",
       "/* on hover */\n",
       "#sk-container-id-2 div.sk-estimator:hover {\n",
       "  /* unfitted */\n",
       "  background-color: var(--sklearn-color-unfitted-level-2);\n",
       "}\n",
       "\n",
       "#sk-container-id-2 div.sk-estimator.fitted:hover {\n",
       "  /* fitted */\n",
       "  background-color: var(--sklearn-color-fitted-level-2);\n",
       "}\n",
       "\n",
       "/* Specification for estimator info (e.g. \"i\" and \"?\") */\n",
       "\n",
       "/* Common style for \"i\" and \"?\" */\n",
       "\n",
       ".sk-estimator-doc-link,\n",
       "a:link.sk-estimator-doc-link,\n",
       "a:visited.sk-estimator-doc-link {\n",
       "  float: right;\n",
       "  font-size: smaller;\n",
       "  line-height: 1em;\n",
       "  font-family: monospace;\n",
       "  background-color: var(--sklearn-color-background);\n",
       "  border-radius: 1em;\n",
       "  height: 1em;\n",
       "  width: 1em;\n",
       "  text-decoration: none !important;\n",
       "  margin-left: 1ex;\n",
       "  /* unfitted */\n",
       "  border: var(--sklearn-color-unfitted-level-1) 1pt solid;\n",
       "  color: var(--sklearn-color-unfitted-level-1);\n",
       "}\n",
       "\n",
       ".sk-estimator-doc-link.fitted,\n",
       "a:link.sk-estimator-doc-link.fitted,\n",
       "a:visited.sk-estimator-doc-link.fitted {\n",
       "  /* fitted */\n",
       "  border: var(--sklearn-color-fitted-level-1) 1pt solid;\n",
       "  color: var(--sklearn-color-fitted-level-1);\n",
       "}\n",
       "\n",
       "/* On hover */\n",
       "div.sk-estimator:hover .sk-estimator-doc-link:hover,\n",
       ".sk-estimator-doc-link:hover,\n",
       "div.sk-label-container:hover .sk-estimator-doc-link:hover,\n",
       ".sk-estimator-doc-link:hover {\n",
       "  /* unfitted */\n",
       "  background-color: var(--sklearn-color-unfitted-level-3);\n",
       "  color: var(--sklearn-color-background);\n",
       "  text-decoration: none;\n",
       "}\n",
       "\n",
       "div.sk-estimator.fitted:hover .sk-estimator-doc-link.fitted:hover,\n",
       ".sk-estimator-doc-link.fitted:hover,\n",
       "div.sk-label-container:hover .sk-estimator-doc-link.fitted:hover,\n",
       ".sk-estimator-doc-link.fitted:hover {\n",
       "  /* fitted */\n",
       "  background-color: var(--sklearn-color-fitted-level-3);\n",
       "  color: var(--sklearn-color-background);\n",
       "  text-decoration: none;\n",
       "}\n",
       "\n",
       "/* Span, style for the box shown on hovering the info icon */\n",
       ".sk-estimator-doc-link span {\n",
       "  display: none;\n",
       "  z-index: 9999;\n",
       "  position: relative;\n",
       "  font-weight: normal;\n",
       "  right: .2ex;\n",
       "  padding: .5ex;\n",
       "  margin: .5ex;\n",
       "  width: min-content;\n",
       "  min-width: 20ex;\n",
       "  max-width: 50ex;\n",
       "  color: var(--sklearn-color-text);\n",
       "  box-shadow: 2pt 2pt 4pt #999;\n",
       "  /* unfitted */\n",
       "  background: var(--sklearn-color-unfitted-level-0);\n",
       "  border: .5pt solid var(--sklearn-color-unfitted-level-3);\n",
       "}\n",
       "\n",
       ".sk-estimator-doc-link.fitted span {\n",
       "  /* fitted */\n",
       "  background: var(--sklearn-color-fitted-level-0);\n",
       "  border: var(--sklearn-color-fitted-level-3);\n",
       "}\n",
       "\n",
       ".sk-estimator-doc-link:hover span {\n",
       "  display: block;\n",
       "}\n",
       "\n",
       "/* \"?\"-specific style due to the `<a>` HTML tag */\n",
       "\n",
       "#sk-container-id-2 a.estimator_doc_link {\n",
       "  float: right;\n",
       "  font-size: 1rem;\n",
       "  line-height: 1em;\n",
       "  font-family: monospace;\n",
       "  background-color: var(--sklearn-color-background);\n",
       "  border-radius: 1rem;\n",
       "  height: 1rem;\n",
       "  width: 1rem;\n",
       "  text-decoration: none;\n",
       "  /* unfitted */\n",
       "  color: var(--sklearn-color-unfitted-level-1);\n",
       "  border: var(--sklearn-color-unfitted-level-1) 1pt solid;\n",
       "}\n",
       "\n",
       "#sk-container-id-2 a.estimator_doc_link.fitted {\n",
       "  /* fitted */\n",
       "  border: var(--sklearn-color-fitted-level-1) 1pt solid;\n",
       "  color: var(--sklearn-color-fitted-level-1);\n",
       "}\n",
       "\n",
       "/* On hover */\n",
       "#sk-container-id-2 a.estimator_doc_link:hover {\n",
       "  /* unfitted */\n",
       "  background-color: var(--sklearn-color-unfitted-level-3);\n",
       "  color: var(--sklearn-color-background);\n",
       "  text-decoration: none;\n",
       "}\n",
       "\n",
       "#sk-container-id-2 a.estimator_doc_link.fitted:hover {\n",
       "  /* fitted */\n",
       "  background-color: var(--sklearn-color-fitted-level-3);\n",
       "}\n",
       "</style><div id=\"sk-container-id-2\" class=\"sk-top-container\"><div class=\"sk-text-repr-fallback\"><pre>LinearRegression()</pre><b>In a Jupyter environment, please rerun this cell to show the HTML representation or trust the notebook. <br />On GitHub, the HTML representation is unable to render, please try loading this page with nbviewer.org.</b></div><div class=\"sk-container\" hidden><div class=\"sk-item\"><div class=\"sk-estimator fitted sk-toggleable\"><input class=\"sk-toggleable__control sk-hidden--visually\" id=\"sk-estimator-id-2\" type=\"checkbox\" checked><label for=\"sk-estimator-id-2\" class=\"sk-toggleable__label fitted sk-toggleable__label-arrow fitted\">&nbsp;&nbsp;LinearRegression<a class=\"sk-estimator-doc-link fitted\" rel=\"noreferrer\" target=\"_blank\" href=\"https://scikit-learn.org/1.5/modules/generated/sklearn.linear_model.LinearRegression.html\">?<span>Documentation for LinearRegression</span></a><span class=\"sk-estimator-doc-link fitted\">i<span>Fitted</span></span></label><div class=\"sk-toggleable__content fitted\"><pre>LinearRegression()</pre></div> </div></div></div></div>"
      ],
      "text/plain": [
       "LinearRegression()"
      ]
     },
     "execution_count": 100,
     "metadata": {},
     "output_type": "execute_result"
    }
   ],
   "source": [
    "linear_reg.fit(X_train, y_train)"
   ]
  },
  {
   "cell_type": "code",
   "execution_count": 102,
   "id": "dc926901-1222-427a-8155-dd45f223f71c",
   "metadata": {
    "tags": []
   },
   "outputs": [],
   "source": [
    "y_pred = linear_reg.predict(X_eval)"
   ]
  },
  {
   "cell_type": "markdown",
   "id": "73eed8b8-32ef-40e7-b45a-ab9f7383a158",
   "metadata": {},
   "source": [
    "Evaluar el modelo con parametros:"
   ]
  },
  {
   "cell_type": "code",
   "execution_count": 103,
   "id": "59b4a93a-2c4f-439a-86af-5ac1fc3f011a",
   "metadata": {
    "tags": []
   },
   "outputs": [],
   "source": [
    "from sklearn.metrics import mean_squared_error, r2_score"
   ]
  },
  {
   "cell_type": "code",
   "execution_count": 104,
   "id": "6f3d29b5-3804-40ec-b0f1-f6c2754f200f",
   "metadata": {
    "tags": []
   },
   "outputs": [],
   "source": [
    "mse = mean_squared_error(y_eval, y_pred)\n",
    "r2 = r2_score(y_eval, y_pred)"
   ]
  },
  {
   "cell_type": "code",
   "execution_count": 106,
   "id": "2aaa46d0-8699-4724-9311-6aeef63f9ea2",
   "metadata": {
    "tags": []
   },
   "outputs": [
    {
     "name": "stdout",
     "output_type": "stream",
     "text": [
      "El error cuadratico medio es: 2015109194.98 y el coeficiente de determinacion (R2) es: 0.60\n"
     ]
    }
   ],
   "source": [
    "print(f'El error cuadratico medio es: {mse:.2f} y el coeficiente de determinacion (R2) es: {r2:.2f}')"
   ]
  },
  {
   "cell_type": "markdown",
   "id": "8637fe3c-b075-4f78-8f52-73641b0c73cb",
   "metadata": {},
   "source": [
    "Estimacion de los datos de test para envio a Kaggle:"
   ]
  },
  {
   "cell_type": "code",
   "execution_count": 112,
   "id": "083feb26-3adf-44e0-b94c-d443c799d8a0",
   "metadata": {
    "tags": []
   },
   "outputs": [],
   "source": [
    "pred_SalePrice = linear_reg.predict(X_testing)"
   ]
  },
  {
   "cell_type": "code",
   "execution_count": 114,
   "id": "41f98188-77fd-4ea7-a795-881c4d34fb62",
   "metadata": {
    "tags": []
   },
   "outputs": [],
   "source": [
    "kaggle_results = pd.DataFrame({'Id' : test_df['Id'], 'SalePrice' : pred_SalePrice})"
   ]
  },
  {
   "cell_type": "code",
   "execution_count": 115,
   "id": "9133231c-fbe9-4fb0-8c91-a5e898db714d",
   "metadata": {
    "tags": []
   },
   "outputs": [
    {
     "data": {
      "text/html": [
       "<div>\n",
       "<style scoped>\n",
       "    .dataframe tbody tr th:only-of-type {\n",
       "        vertical-align: middle;\n",
       "    }\n",
       "\n",
       "    .dataframe tbody tr th {\n",
       "        vertical-align: top;\n",
       "    }\n",
       "\n",
       "    .dataframe thead th {\n",
       "        text-align: right;\n",
       "    }\n",
       "</style>\n",
       "<table border=\"1\" class=\"dataframe\">\n",
       "  <thead>\n",
       "    <tr style=\"text-align: right;\">\n",
       "      <th></th>\n",
       "      <th>Id</th>\n",
       "      <th>SalePrice</th>\n",
       "    </tr>\n",
       "  </thead>\n",
       "  <tbody>\n",
       "    <tr>\n",
       "      <th>0</th>\n",
       "      <td>1461</td>\n",
       "      <td>105559.165733</td>\n",
       "    </tr>\n",
       "    <tr>\n",
       "      <th>1</th>\n",
       "      <td>1462</td>\n",
       "      <td>178672.775756</td>\n",
       "    </tr>\n",
       "    <tr>\n",
       "      <th>2</th>\n",
       "      <td>1463</td>\n",
       "      <td>163387.053815</td>\n",
       "    </tr>\n",
       "    <tr>\n",
       "      <th>3</th>\n",
       "      <td>1464</td>\n",
       "      <td>191715.761111</td>\n",
       "    </tr>\n",
       "    <tr>\n",
       "      <th>4</th>\n",
       "      <td>1465</td>\n",
       "      <td>217882.069068</td>\n",
       "    </tr>\n",
       "    <tr>\n",
       "      <th>...</th>\n",
       "      <td>...</td>\n",
       "      <td>...</td>\n",
       "    </tr>\n",
       "    <tr>\n",
       "      <th>1454</th>\n",
       "      <td>2915</td>\n",
       "      <td>72968.658186</td>\n",
       "    </tr>\n",
       "    <tr>\n",
       "      <th>1455</th>\n",
       "      <td>2916</td>\n",
       "      <td>84075.595943</td>\n",
       "    </tr>\n",
       "    <tr>\n",
       "      <th>1456</th>\n",
       "      <td>2917</td>\n",
       "      <td>152374.014911</td>\n",
       "    </tr>\n",
       "    <tr>\n",
       "      <th>1457</th>\n",
       "      <td>2918</td>\n",
       "      <td>109007.440505</td>\n",
       "    </tr>\n",
       "    <tr>\n",
       "      <th>1458</th>\n",
       "      <td>2919</td>\n",
       "      <td>228303.426677</td>\n",
       "    </tr>\n",
       "  </tbody>\n",
       "</table>\n",
       "<p>1459 rows × 2 columns</p>\n",
       "</div>"
      ],
      "text/plain": [
       "        Id      SalePrice\n",
       "0     1461  105559.165733\n",
       "1     1462  178672.775756\n",
       "2     1463  163387.053815\n",
       "3     1464  191715.761111\n",
       "4     1465  217882.069068\n",
       "...    ...            ...\n",
       "1454  2915   72968.658186\n",
       "1455  2916   84075.595943\n",
       "1456  2917  152374.014911\n",
       "1457  2918  109007.440505\n",
       "1458  2919  228303.426677\n",
       "\n",
       "[1459 rows x 2 columns]"
      ]
     },
     "execution_count": 115,
     "metadata": {},
     "output_type": "execute_result"
    }
   ],
   "source": [
    "kaggle_results"
   ]
  },
  {
   "cell_type": "code",
   "execution_count": null,
   "id": "3729ee13-ecd9-487c-8c11-83959bab896b",
   "metadata": {},
   "outputs": [],
   "source": []
  }
 ],
 "metadata": {
  "kernelspec": {
   "display_name": "Python 3 (ipykernel)",
   "language": "python",
   "name": "python3"
  },
  "language_info": {
   "codemirror_mode": {
    "name": "ipython",
    "version": 3
   },
   "file_extension": ".py",
   "mimetype": "text/x-python",
   "name": "python",
   "nbconvert_exporter": "python",
   "pygments_lexer": "ipython3",
   "version": "3.12.4"
  }
 },
 "nbformat": 4,
 "nbformat_minor": 5
}
